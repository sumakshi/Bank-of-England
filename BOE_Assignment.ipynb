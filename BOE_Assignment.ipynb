{
 "cells": [
  {
   "cell_type": "markdown",
   "id": "e95f1632",
   "metadata": {},
   "source": [
    "## BoE Assignment"
   ]
  },
  {
   "cell_type": "markdown",
   "id": "0186c465",
   "metadata": {},
   "source": [
    "## Task I\n",
    "#### Using the data provided, please analyse this data using R or Python and produce a short report, including tables and charts, to highlight which firms should receive the most attention, according to the metrics above."
   ]
  },
  {
   "cell_type": "markdown",
   "id": "ead1d955",
   "metadata": {},
   "source": [
    "#### Terms Simplified:\n",
    "#### Terms  |               Abbreviation               |                                          Meaning \n",
    "1. GWP    | Gross Written Premium   | Total turnover of the company\n",
    "2. NWP    | Net Written Premium     | Total premium on insurance underwritten by an insurer during a specified                                           period after the deduction of premium applicable to reinsurance.\n",
    "3. SCR    | Solvent Capital Ratio   |EOF / SCR\n",
    "4. EOF_SCR| Eligible Own Fund SCR   |The SCR ratio is calculated using Eligible Own Funds most of the times.\n",
    "5. EOAOL  | Assests Over Liabilities| If a firm have more assets than liabilities then they are solvent.\n",
    "6. NWP/GWP| NWP/GWP ratio           | Insuring the insurers"
   ]
  },
  {
   "cell_type": "markdown",
   "id": "7549f8f4",
   "metadata": {},
   "source": [
    "#### Things to Remember:\n",
    "1. When companies report solvency this is often done as a percentage using a SCR  ratio. The lowest acceptable ratio is 100%. As any ratio it can be high for two reasons, because of the nominator or the denominator. "
   ]
  },
  {
   "cell_type": "code",
   "execution_count": 1,
   "id": "d8c3a6f8",
   "metadata": {},
   "outputs": [],
   "source": [
    "#importing libraries and packages\n",
    "import pandas as pd\n",
    "import numpy as np\n",
    "import statsmodels.api as sm\n",
    "import statsmodels.formula.api as smf\n",
    "from scipy.stats import pearsonr\n",
    "import matplotlib.pyplot as plt\n",
    "import seaborn as sns\n",
    "import warnings\n",
    "warnings.filterwarnings('ignore')"
   ]
  },
  {
   "cell_type": "code",
   "execution_count": 2,
   "id": "13afb897",
   "metadata": {},
   "outputs": [],
   "source": [
    "#getting headers\n",
    "headers=['Firm_Name',\n",
    "         'NWP_2016','NWP_2017','NWP_2018','NWP_2019','NWP_2020',\n",
    "         'SCR_2016','SCR_2017','SCR_2018','SCR_2019','SCR_2020',\n",
    "         'EOF_SCR_2016','EOF_SCR_2017','EOF_SCR_2018','EOF_SCR_2019','EOF_SCR_2020'\n",
    "        ,'SCR_Coverage_2016','SCR_Coverage_2017','SCR_Coverage_2018','SCR_Coverage_2019','SCR_Coverage_2020',\n",
    "         'GWP_2016','GWP_2017','GWP_2018','GWP_2019','GWP_2020',\n",
    "         'Total_asset_2016','Total_asset_2017','Total_asset_2018','Total_asset_2019','Total_asset_2020',\n",
    "         'Total_liabilities_2016','Total_liabilities_2017','Total_liabilities_2018','Total_liabilities_2019',\n",
    "         'Total_liabilities_2020',\n",
    "         'EOAOL_2016','EOAOL_2017','EOAOL_2018','EOAOL_2019','EOAOL_2020']"
   ]
  },
  {
   "cell_type": "code",
   "execution_count": 3,
   "id": "82c158ae",
   "metadata": {},
   "outputs": [
    {
     "data": {
      "text/html": [
       "<div>\n",
       "<style scoped>\n",
       "    .dataframe tbody tr th:only-of-type {\n",
       "        vertical-align: middle;\n",
       "    }\n",
       "\n",
       "    .dataframe tbody tr th {\n",
       "        vertical-align: top;\n",
       "    }\n",
       "\n",
       "    .dataframe thead th {\n",
       "        text-align: right;\n",
       "    }\n",
       "</style>\n",
       "<table border=\"1\" class=\"dataframe\">\n",
       "  <thead>\n",
       "    <tr style=\"text-align: right;\">\n",
       "      <th></th>\n",
       "      <th>Firm_Name</th>\n",
       "      <th>NWP_2016</th>\n",
       "      <th>NWP_2017</th>\n",
       "      <th>NWP_2018</th>\n",
       "      <th>NWP_2019</th>\n",
       "      <th>NWP_2020</th>\n",
       "      <th>SCR_2016</th>\n",
       "      <th>SCR_2017</th>\n",
       "      <th>SCR_2018</th>\n",
       "      <th>SCR_2019</th>\n",
       "      <th>...</th>\n",
       "      <th>Total_liabilities_2016</th>\n",
       "      <th>Total_liabilities_2017</th>\n",
       "      <th>Total_liabilities_2018</th>\n",
       "      <th>Total_liabilities_2019</th>\n",
       "      <th>Total_liabilities_2020</th>\n",
       "      <th>EOAOL_2016</th>\n",
       "      <th>EOAOL_2017</th>\n",
       "      <th>EOAOL_2018</th>\n",
       "      <th>EOAOL_2019</th>\n",
       "      <th>EOAOL_2020</th>\n",
       "    </tr>\n",
       "  </thead>\n",
       "  <tbody>\n",
       "    <tr>\n",
       "      <th>0</th>\n",
       "      <td>Firm 1</td>\n",
       "      <td>-13779.815629</td>\n",
       "      <td>0.000000</td>\n",
       "      <td>0.000000</td>\n",
       "      <td>0.000000</td>\n",
       "      <td>0.000000</td>\n",
       "      <td>1085.360139</td>\n",
       "      <td>9.635840e-09</td>\n",
       "      <td>0.000000</td>\n",
       "      <td>0.000000</td>\n",
       "      <td>...</td>\n",
       "      <td>69696.557128</td>\n",
       "      <td>0.000000</td>\n",
       "      <td>0.000000</td>\n",
       "      <td>0.000000</td>\n",
       "      <td>0.000000</td>\n",
       "      <td>2031.035937</td>\n",
       "      <td>4.817920</td>\n",
       "      <td>0.000000</td>\n",
       "      <td>0.000000</td>\n",
       "      <td>0.000000</td>\n",
       "    </tr>\n",
       "    <tr>\n",
       "      <th>1</th>\n",
       "      <td>Firm 2</td>\n",
       "      <td>28.178059</td>\n",
       "      <td>26.865049</td>\n",
       "      <td>25.064438</td>\n",
       "      <td>23.226445</td>\n",
       "      <td>21.718558</td>\n",
       "      <td>10.190314</td>\n",
       "      <td>1.011357e+01</td>\n",
       "      <td>9.495235</td>\n",
       "      <td>8.146471</td>\n",
       "      <td>...</td>\n",
       "      <td>8.526315</td>\n",
       "      <td>9.585694</td>\n",
       "      <td>8.596011</td>\n",
       "      <td>6.932901</td>\n",
       "      <td>8.526285</td>\n",
       "      <td>33.391180</td>\n",
       "      <td>40.637281</td>\n",
       "      <td>50.621614</td>\n",
       "      <td>57.602326</td>\n",
       "      <td>29.652400</td>\n",
       "    </tr>\n",
       "    <tr>\n",
       "      <th>2</th>\n",
       "      <td>Firm 3</td>\n",
       "      <td>0.000000</td>\n",
       "      <td>75.609681</td>\n",
       "      <td>70.578732</td>\n",
       "      <td>78.432782</td>\n",
       "      <td>85.735830</td>\n",
       "      <td>322.955115</td>\n",
       "      <td>3.637823e+02</td>\n",
       "      <td>362.290859</td>\n",
       "      <td>394.295982</td>\n",
       "      <td>...</td>\n",
       "      <td>926.065667</td>\n",
       "      <td>1016.401689</td>\n",
       "      <td>974.733900</td>\n",
       "      <td>1032.497033</td>\n",
       "      <td>1214.913306</td>\n",
       "      <td>583.650604</td>\n",
       "      <td>558.916856</td>\n",
       "      <td>566.073253</td>\n",
       "      <td>598.338699</td>\n",
       "      <td>540.065747</td>\n",
       "    </tr>\n",
       "    <tr>\n",
       "      <th>3</th>\n",
       "      <td>Firm 4</td>\n",
       "      <td>22344.199923</td>\n",
       "      <td>23963.910709</td>\n",
       "      <td>25760.390158</td>\n",
       "      <td>25512.748836</td>\n",
       "      <td>24996.021042</td>\n",
       "      <td>16573.644800</td>\n",
       "      <td>1.633275e+04</td>\n",
       "      <td>17103.616000</td>\n",
       "      <td>17219.246080</td>\n",
       "      <td>...</td>\n",
       "      <td>50485.010600</td>\n",
       "      <td>56618.706223</td>\n",
       "      <td>62935.244436</td>\n",
       "      <td>64005.547967</td>\n",
       "      <td>71237.710999</td>\n",
       "      <td>16919.338528</td>\n",
       "      <td>16415.923037</td>\n",
       "      <td>18249.584833</td>\n",
       "      <td>20795.976010</td>\n",
       "      <td>22827.370034</td>\n",
       "    </tr>\n",
       "    <tr>\n",
       "      <th>4</th>\n",
       "      <td>Firm 5</td>\n",
       "      <td>68.200993</td>\n",
       "      <td>51.663132</td>\n",
       "      <td>44.010833</td>\n",
       "      <td>42.008556</td>\n",
       "      <td>81.273653</td>\n",
       "      <td>52.824396</td>\n",
       "      <td>3.805377e+01</td>\n",
       "      <td>34.696815</td>\n",
       "      <td>57.231788</td>\n",
       "      <td>...</td>\n",
       "      <td>193.425808</td>\n",
       "      <td>161.417709</td>\n",
       "      <td>118.910867</td>\n",
       "      <td>107.269800</td>\n",
       "      <td>104.922113</td>\n",
       "      <td>148.433518</td>\n",
       "      <td>150.091268</td>\n",
       "      <td>152.205234</td>\n",
       "      <td>142.479147</td>\n",
       "      <td>130.559790</td>\n",
       "    </tr>\n",
       "  </tbody>\n",
       "</table>\n",
       "<p>5 rows × 41 columns</p>\n",
       "</div>"
      ],
      "text/plain": [
       "  Firm_Name      NWP_2016      NWP_2017      NWP_2018      NWP_2019  \\\n",
       "0    Firm 1 -13779.815629      0.000000      0.000000      0.000000   \n",
       "1    Firm 2     28.178059     26.865049     25.064438     23.226445   \n",
       "2    Firm 3      0.000000     75.609681     70.578732     78.432782   \n",
       "3    Firm 4  22344.199923  23963.910709  25760.390158  25512.748836   \n",
       "4    Firm 5     68.200993     51.663132     44.010833     42.008556   \n",
       "\n",
       "       NWP_2020      SCR_2016      SCR_2017      SCR_2018      SCR_2019  ...  \\\n",
       "0      0.000000   1085.360139  9.635840e-09      0.000000      0.000000  ...   \n",
       "1     21.718558     10.190314  1.011357e+01      9.495235      8.146471  ...   \n",
       "2     85.735830    322.955115  3.637823e+02    362.290859    394.295982  ...   \n",
       "3  24996.021042  16573.644800  1.633275e+04  17103.616000  17219.246080  ...   \n",
       "4     81.273653     52.824396  3.805377e+01     34.696815     57.231788  ...   \n",
       "\n",
       "   Total_liabilities_2016  Total_liabilities_2017  Total_liabilities_2018  \\\n",
       "0            69696.557128                0.000000                0.000000   \n",
       "1                8.526315                9.585694                8.596011   \n",
       "2              926.065667             1016.401689              974.733900   \n",
       "3            50485.010600            56618.706223            62935.244436   \n",
       "4              193.425808              161.417709              118.910867   \n",
       "\n",
       "   Total_liabilities_2019  Total_liabilities_2020    EOAOL_2016    EOAOL_2017  \\\n",
       "0                0.000000                0.000000   2031.035937      4.817920   \n",
       "1                6.932901                8.526285     33.391180     40.637281   \n",
       "2             1032.497033             1214.913306    583.650604    558.916856   \n",
       "3            64005.547967            71237.710999  16919.338528  16415.923037   \n",
       "4              107.269800              104.922113    148.433518    150.091268   \n",
       "\n",
       "     EOAOL_2018    EOAOL_2019    EOAOL_2020  \n",
       "0      0.000000      0.000000      0.000000  \n",
       "1     50.621614     57.602326     29.652400  \n",
       "2    566.073253    598.338699    540.065747  \n",
       "3  18249.584833  20795.976010  22827.370034  \n",
       "4    152.205234    142.479147    130.559790  \n",
       "\n",
       "[5 rows x 41 columns]"
      ]
     },
     "execution_count": 3,
     "metadata": {},
     "output_type": "execute_result"
    }
   ],
   "source": [
    "#reading file\n",
    "df=pd.read_excel('/Users/sumakshichauhan/Desktop/Projects/Bank of England/data.xlsx',skiprows=[1])\n",
    "#setting axis\n",
    "df1 = df.set_axis(headers, axis=1, inplace=False)\n",
    "df1.head(5)"
   ]
  },
  {
   "cell_type": "code",
   "execution_count": 4,
   "id": "1efc3e83",
   "metadata": {},
   "outputs": [],
   "source": [
    "#Removing Outliers(i.e. elcluding firms with no business in the past 5 years)\n",
    "df2=df1[(df1['GWP_2016']>0) & (df1['GWP_2017']>0) & (df1['GWP_2018']>0) & (df1['GWP_2019']>0)& (df1['GWP_2020']>0)] "
   ]
  },
  {
   "cell_type": "code",
   "execution_count": 5,
   "id": "081d6ea2",
   "metadata": {},
   "outputs": [],
   "source": [
    "#Calculating NWP/GWP ratio for each year \n",
    "df2['NWP_GWP_2016']=df2['NWP_2016']/df2['GWP_2016']\n",
    "df2['NWP_GWP_2017']=df2['NWP_2017']/df2['GWP_2017']\n",
    "df2['NWP_GWP_2018']=df2['NWP_2018']/df2['GWP_2018']\n",
    "df2['NWP_GWP_2019']=df2['NWP_2019']/df2['GWP_2019']\n",
    "df2['NWP_GWP_2020']=df2['NWP_2020']/df2['GWP_2020']"
   ]
  },
  {
   "cell_type": "code",
   "execution_count": 6,
   "id": "6a1d1969",
   "metadata": {},
   "outputs": [],
   "source": [
    "#Replacing null values with 0 for each year \n",
    "df2['NWP_GWP_2016']=df2['NWP_GWP_2016'].fillna(0)\n",
    "df2['NWP_GWP_2017']=df2['NWP_GWP_2017'].fillna(0)\n",
    "df2['NWP_GWP_2018']=df2['NWP_GWP_2018'].fillna(0)\n",
    "df2['NWP_GWP_2019']=df2['NWP_GWP_2019'].fillna(0)\n",
    "df2['NWP_GWP_2020']=df2['NWP_GWP_2020'].fillna(0)"
   ]
  },
  {
   "cell_type": "code",
   "execution_count": 7,
   "id": "dd255ca6",
   "metadata": {},
   "outputs": [],
   "source": [
    "#Calculating average for NWP/GWP ratio, GWP ratio, EOAOL, Total Liabilities, EOF_SCR and SCR\n",
    "df2['NWP_GWP_AVG']=(df2['NWP_GWP_2016']+df2['NWP_GWP_2017']+df2['NWP_GWP_2018']+df2['NWP_GWP_2019']+df2['NWP_GWP_2020'])/5\n",
    "df2['GWP_AVG']=(df2['GWP_2016']+df2['GWP_2017']+df2['GWP_2018']+df2['GWP_2019']+df2['GWP_2020'])/5\n",
    "df2['EOAOL_AVG']=(df2['EOAOL_2016']+df2['EOAOL_2017']+df2['EOAOL_2018']+df2['EOAOL_2019']+df2['EOAOL_2020'])/5\n",
    "df2['Total_liabilities_AVG']=(df2['Total_liabilities_2016']+df2['Total_liabilities_2017']+df2['Total_liabilities_2018']+df2['Total_liabilities_2019']+df2['Total_liabilities_2020'])/5\n",
    "df2['EOF_SCR_AVG']=(df2['EOF_SCR_2016']+df2['EOF_SCR_2017']+df2['EOF_SCR_2018']+df2['EOF_SCR_2019']+df2['EOF_SCR_2020'])/5\n",
    "df2['SCR_AVG']=(df2['SCR_2016']+df2['SCR_2017']+df2['SCR_2018']+df2['SCR_2019']+df2['SCR_2020'])/5"
   ]
  },
  {
   "cell_type": "code",
   "execution_count": 8,
   "id": "e8054c1e",
   "metadata": {},
   "outputs": [],
   "source": [
    "#Calculating standard deviation of NWP/GWP ratio for each year\n",
    "df2['NWP_GWP_2016_AVG']=df2['NWP_2016'].sum()/len(df2['NWP_2016'])\n",
    "df2['NWP_GWP_2016_SD'] = df2['NWP_GWP_2016']- df2['NWP_GWP_2016_AVG']\n",
    "df2['NWP_GWP_2017_AVG']=df2['NWP_2017'].sum()/len(df2['NWP_2017'])\n",
    "df2['NWP_GWP_2017_SD'] = df2['NWP_GWP_2017']- df2['NWP_GWP_2017_AVG']\n",
    "df2['NWP_GWP_2018_AVG']=df2['NWP_2018'].sum()/len(df2['NWP_2018'])\n",
    "df2['NWP_GWP_2018_SD'] = df2['NWP_GWP_2018']- df2['NWP_GWP_2018_AVG']\n",
    "df2['NWP_GWP_2019_AVG']=df2['NWP_2019'].sum()/len(df2['NWP_2019'])\n",
    "df2['NWP_GWP_2019_SD'] = df2['NWP_GWP_2019']- df2['NWP_GWP_2019_AVG']\n",
    "df2['NWP_GWP_2020_AVG']=df2['NWP_2020'].sum()/len(df2['NWP_2020'])\n",
    "df2['NWP_GWP_2020_SD'] = df2['NWP_GWP_2020']- df2['NWP_GWP_2020_AVG']"
   ]
  },
  {
   "cell_type": "code",
   "execution_count": 9,
   "id": "20fa9d99",
   "metadata": {},
   "outputs": [],
   "source": [
    "#Calculating SCR ratio for each year \n",
    "df2['SCR_ratio_2016']=df2['EOF_SCR_2016']/df2['SCR_2016']\n",
    "df2['SCR_ratio_2017']=df2['EOF_SCR_2017']/df2['SCR_2017']\n",
    "df2['SCR_ratio_2018']=df2['EOF_SCR_2018']/df2['SCR_2018']\n",
    "df2['SCR_ratio_2019']=df2['EOF_SCR_2019']/df2['SCR_2019']\n",
    "df2['SCR_ratio_2020']=df2['EOF_SCR_2020']/df2['SCR_2020']"
   ]
  },
  {
   "cell_type": "code",
   "execution_count": 10,
   "id": "340123a2",
   "metadata": {},
   "outputs": [],
   "source": [
    "#Replacing null values with 0 for each year \n",
    "df2['SCR_ratio_2016']=df2['SCR_ratio_2016'].fillna(0)\n",
    "df2['SCR_ratio_2017']=df2['SCR_ratio_2017'].fillna(0)\n",
    "df2['SCR_ratio_2018']=df2['SCR_ratio_2018'].fillna(0)\n",
    "df2['SCR_ratio_2019']=df2['SCR_ratio_2019'].fillna(0)\n",
    "df2['SCR_ratio_2020']=df2['SCR_ratio_2020'].fillna(0)\n",
    "df2['SCR_ratio_AVG']=(df2['SCR_ratio_2016']+df2['SCR_ratio_2017']+df2['SCR_ratio_2018']+df2['SCR_ratio_2019']+df2['SCR_ratio_2020'])/5"
   ]
  },
  {
   "cell_type": "code",
   "execution_count": 11,
   "id": "425ef498",
   "metadata": {},
   "outputs": [],
   "source": [
    "df_final= df2[['Firm_Name','GWP_AVG','NWP_GWP_AVG','SCR_ratio_AVG','EOAOL_AVG']]\n",
    "df_final['NWP_GWP_AVG_STD']=df_final['NWP_GWP_AVG'].std()\n",
    "df_final['SCR_ratio_AVG_STD']=df_final['SCR_ratio_AVG'].std()"
   ]
  },
  {
   "cell_type": "code",
   "execution_count": 12,
   "id": "89bf0468",
   "metadata": {},
   "outputs": [],
   "source": [
    "#Keeping those firms who have SCR ratio less than average SCR ratio\n",
    "df4 = df_final[df_final['SCR_ratio_AVG']<df_final['SCR_ratio_AVG_STD']]"
   ]
  },
  {
   "cell_type": "code",
   "execution_count": 13,
   "id": "b6d80901",
   "metadata": {},
   "outputs": [
    {
     "data": {
      "text/plain": [
       "Firm_Name            49\n",
       "GWP_AVG              49\n",
       "NWP_GWP_AVG          49\n",
       "SCR_ratio_AVG        49\n",
       "EOAOL_AVG            49\n",
       "NWP_GWP_AVG_STD      49\n",
       "SCR_ratio_AVG_STD    49\n",
       "dtype: int64"
      ]
     },
     "execution_count": 13,
     "metadata": {},
     "output_type": "execute_result"
    }
   ],
   "source": [
    "#Keeping those firms who have SCR ratio less than average SCR ratio\n",
    "df5 = df4[df4['NWP_GWP_AVG']<df4['NWP_GWP_AVG_STD']]\n",
    "df5.count()"
   ]
  },
  {
   "cell_type": "markdown",
   "id": "ac6e577c",
   "metadata": {},
   "source": [
    "### Top 3 firms which require help immediately"
   ]
  },
  {
   "cell_type": "code",
   "execution_count": 14,
   "id": "acb2705a",
   "metadata": {},
   "outputs": [
    {
     "data": {
      "text/html": [
       "<div>\n",
       "<style scoped>\n",
       "    .dataframe tbody tr th:only-of-type {\n",
       "        vertical-align: middle;\n",
       "    }\n",
       "\n",
       "    .dataframe tbody tr th {\n",
       "        vertical-align: top;\n",
       "    }\n",
       "\n",
       "    .dataframe thead th {\n",
       "        text-align: right;\n",
       "    }\n",
       "</style>\n",
       "<table border=\"1\" class=\"dataframe\">\n",
       "  <thead>\n",
       "    <tr style=\"text-align: right;\">\n",
       "      <th></th>\n",
       "      <th>Firm_Name</th>\n",
       "      <th>GWP_AVG</th>\n",
       "      <th>NWP_GWP_AVG</th>\n",
       "      <th>SCR_ratio_AVG</th>\n",
       "      <th>EOAOL_AVG</th>\n",
       "      <th>NWP_GWP_AVG_STD</th>\n",
       "      <th>SCR_ratio_AVG_STD</th>\n",
       "    </tr>\n",
       "  </thead>\n",
       "  <tbody>\n",
       "    <tr>\n",
       "      <th>147</th>\n",
       "      <td>Firm 148</td>\n",
       "      <td>60.580624</td>\n",
       "      <td>0.882305</td>\n",
       "      <td>0.999527</td>\n",
       "      <td>182.178579</td>\n",
       "      <td>2.537884</td>\n",
       "      <td>1.535742</td>\n",
       "    </tr>\n",
       "    <tr>\n",
       "      <th>212</th>\n",
       "      <td>Firm 213</td>\n",
       "      <td>19.069063</td>\n",
       "      <td>1.000000</td>\n",
       "      <td>0.335523</td>\n",
       "      <td>89.751959</td>\n",
       "      <td>2.537884</td>\n",
       "      <td>1.535742</td>\n",
       "    </tr>\n",
       "    <tr>\n",
       "      <th>182</th>\n",
       "      <td>Firm 183</td>\n",
       "      <td>0.002746</td>\n",
       "      <td>1.000000</td>\n",
       "      <td>0.035835</td>\n",
       "      <td>16.890128</td>\n",
       "      <td>2.537884</td>\n",
       "      <td>1.535742</td>\n",
       "    </tr>\n",
       "  </tbody>\n",
       "</table>\n",
       "</div>"
      ],
      "text/plain": [
       "    Firm_Name    GWP_AVG  NWP_GWP_AVG  SCR_ratio_AVG   EOAOL_AVG  \\\n",
       "147  Firm 148  60.580624     0.882305       0.999527  182.178579   \n",
       "212  Firm 213  19.069063     1.000000       0.335523   89.751959   \n",
       "182  Firm 183   0.002746     1.000000       0.035835   16.890128   \n",
       "\n",
       "     NWP_GWP_AVG_STD  SCR_ratio_AVG_STD  \n",
       "147         2.537884           1.535742  \n",
       "212         2.537884           1.535742  \n",
       "182         2.537884           1.535742  "
      ]
     },
     "execution_count": 14,
     "metadata": {},
     "output_type": "execute_result"
    }
   ],
   "source": [
    "# Selecting top 3 firms having SCR ratio less than 1 i.e. firms which are about to become insolvent.\n",
    "# Priority order is the GWP i.e.company with more turnover should be given priority\n",
    "immediate=df5[df5['SCR_ratio_AVG']<1]\n",
    "immediate.sort_values(by=['GWP_AVG'], ascending=False).head(3)"
   ]
  },
  {
   "cell_type": "markdown",
   "id": "c06e9332",
   "metadata": {},
   "source": [
    "##### Analysing the SCR Ratio Trend for each of the above firms "
   ]
  },
  {
   "cell_type": "code",
   "execution_count": 15,
   "id": "03aeafc9",
   "metadata": {
    "scrolled": true
   },
   "outputs": [
    {
     "data": {
      "image/png": "[encoded data removed]",
      "text/plain": [
       "<Figure size 432x288 with 1 Axes>"
      ]
     },
     "metadata": {
      "needs_background": "light"
     },
     "output_type": "display_data"
    }
   ],
   "source": [
    "firm_148 =df2[df2['Firm_Name'] == 'Firm 148' ]\n",
    "x = np.array(['2016', '2017', '2018', '2019', '2020'])\n",
    "y = np.array([firm_148['SCR_ratio_2016'], firm_148['SCR_ratio_2017'], firm_148['SCR_ratio_2018'], firm_148['SCR_ratio_2019'], firm_148['SCR_ratio_2020']])\n",
    "plt.plot(x, y,  # X and y points\n",
    "         color='darkorange', linestyle='--')\n",
    "\n",
    "plt.ylabel('SCR_ratio', fontsize=14)\n",
    "plt.xlabel('Year', fontsize=14)\n",
    "plt.title('Firm 148 SCR Ratio Trend', fontsize=16)\n",
    "plt.show()"
   ]
  },
  {
   "cell_type": "code",
   "execution_count": 16,
   "id": "7fae8973",
   "metadata": {},
   "outputs": [
    {
     "data": {
      "image/png": "[encoded data removed]",
      "text/plain": [
       "<Figure size 432x288 with 1 Axes>"
      ]
     },
     "metadata": {
      "needs_background": "light"
     },
     "output_type": "display_data"
    }
   ],
   "source": [
    "firm_213 =df2[df2['Firm_Name'] == 'Firm 213' ]\n",
    "x = np.array(['2016', '2017', '2018', '2019', '2020'])\n",
    "y = np.array([firm_213['SCR_ratio_2016'], firm_213['SCR_ratio_2017'], firm_213['SCR_ratio_2018'], firm_213['SCR_ratio_2019'], firm_213['SCR_ratio_2020']])\n",
    "plt.plot(x, y,  # X and y points\n",
    "         color='darkorange', linestyle='--')\n",
    "\n",
    "plt.ylabel('SCR_ratio', fontsize=14)\n",
    "plt.xlabel('Year', fontsize=14)\n",
    "plt.title('Firm 213 SCR Ratio Trend', fontsize=16)\n",
    "plt.show()"
   ]
  },
  {
   "cell_type": "code",
   "execution_count": 17,
   "id": "236e4758",
   "metadata": {},
   "outputs": [
    {
     "data": {
      "image/png": "[encoded data removed]",
      "text/plain": [
       "<Figure size 432x288 with 1 Axes>"
      ]
     },
     "metadata": {
      "needs_background": "light"
     },
     "output_type": "display_data"
    }
   ],
   "source": [
    "firm_183 =df2[df2['Firm_Name'] == 'Firm 183' ]\n",
    "x = np.array(['2016', '2017', '2018', '2019', '2020'])\n",
    "y = np.array([firm_183['SCR_ratio_2016'], firm_183['SCR_ratio_2017'], firm_183['SCR_ratio_2018'], firm_183['SCR_ratio_2019'], firm_183['SCR_ratio_2020']])\n",
    "plt.plot(x, y,  # X and y points\n",
    "         color='darkorange', linestyle='--')\n",
    "\n",
    "plt.ylabel('SCR_ratio', fontsize=14)\n",
    "plt.xlabel('Year', fontsize=14)\n",
    "plt.title('Firm 183 SCR Ratio Trend', fontsize=16)\n",
    "plt.show()"
   ]
  },
  {
   "cell_type": "markdown",
   "id": "60ad5d5a",
   "metadata": {},
   "source": [
    "### Top 3 firms which require help in short time"
   ]
  },
  {
   "cell_type": "code",
   "execution_count": 18,
   "id": "4821d218",
   "metadata": {},
   "outputs": [
    {
     "data": {
      "text/html": [
       "<div>\n",
       "<style scoped>\n",
       "    .dataframe tbody tr th:only-of-type {\n",
       "        vertical-align: middle;\n",
       "    }\n",
       "\n",
       "    .dataframe tbody tr th {\n",
       "        vertical-align: top;\n",
       "    }\n",
       "\n",
       "    .dataframe thead th {\n",
       "        text-align: right;\n",
       "    }\n",
       "</style>\n",
       "<table border=\"1\" class=\"dataframe\">\n",
       "  <thead>\n",
       "    <tr style=\"text-align: right;\">\n",
       "      <th></th>\n",
       "      <th>Firm_Name</th>\n",
       "      <th>GWP_AVG</th>\n",
       "      <th>NWP_GWP_AVG</th>\n",
       "      <th>SCR_ratio_AVG</th>\n",
       "      <th>EOAOL_AVG</th>\n",
       "      <th>NWP_GWP_AVG_STD</th>\n",
       "      <th>SCR_ratio_AVG_STD</th>\n",
       "    </tr>\n",
       "  </thead>\n",
       "  <tbody>\n",
       "    <tr>\n",
       "      <th>3</th>\n",
       "      <td>Firm 4</td>\n",
       "      <td>33857.155951</td>\n",
       "      <td>0.725393</td>\n",
       "      <td>1.476896</td>\n",
       "      <td>19041.638489</td>\n",
       "      <td>2.537884</td>\n",
       "      <td>1.535742</td>\n",
       "    </tr>\n",
       "    <tr>\n",
       "      <th>104</th>\n",
       "      <td>Firm 105</td>\n",
       "      <td>14899.454840</td>\n",
       "      <td>0.730077</td>\n",
       "      <td>1.376390</td>\n",
       "      <td>20699.956203</td>\n",
       "      <td>2.537884</td>\n",
       "      <td>1.535742</td>\n",
       "    </tr>\n",
       "    <tr>\n",
       "      <th>310</th>\n",
       "      <td>Firm 311</td>\n",
       "      <td>13685.383398</td>\n",
       "      <td>0.393685</td>\n",
       "      <td>1.460739</td>\n",
       "      <td>11662.337006</td>\n",
       "      <td>2.537884</td>\n",
       "      <td>1.535742</td>\n",
       "    </tr>\n",
       "  </tbody>\n",
       "</table>\n",
       "</div>"
      ],
      "text/plain": [
       "    Firm_Name       GWP_AVG  NWP_GWP_AVG  SCR_ratio_AVG     EOAOL_AVG  \\\n",
       "3      Firm 4  33857.155951     0.725393       1.476896  19041.638489   \n",
       "104  Firm 105  14899.454840     0.730077       1.376390  20699.956203   \n",
       "310  Firm 311  13685.383398     0.393685       1.460739  11662.337006   \n",
       "\n",
       "     NWP_GWP_AVG_STD  SCR_ratio_AVG_STD  \n",
       "3           2.537884           1.535742  \n",
       "104         2.537884           1.535742  \n",
       "310         2.537884           1.535742  "
      ]
     },
     "execution_count": 18,
     "metadata": {},
     "output_type": "execute_result"
    }
   ],
   "source": [
    "# Selecting top 3 firms having NWP/GWP ratio less than 1 i.e. firms which are not insured properly/completely\n",
    "# Priority order is the GWP i.e.company with more turnover should be given priority\n",
    "short=df5[df5['NWP_GWP_AVG']<1]\n",
    "short.sort_values(by=['GWP_AVG'], ascending=False).head(3)"
   ]
  },
  {
   "cell_type": "markdown",
   "id": "c3ab04c8",
   "metadata": {},
   "source": [
    "##### Analysing the NWP_GWP_AVG Trend for each of the above firms "
   ]
  },
  {
   "cell_type": "code",
   "execution_count": 19,
   "id": "8df7960d",
   "metadata": {},
   "outputs": [
    {
     "data": {
      "image/png": "[encoded data removed]",
      "text/plain": [
       "<Figure size 432x288 with 1 Axes>"
      ]
     },
     "metadata": {
      "needs_background": "light"
     },
     "output_type": "display_data"
    }
   ],
   "source": [
    "firm_4 =df2[df2['Firm_Name'] == 'Firm 4' ]\n",
    "x = np.array(['2016', '2017', '2018', '2019', '2020'])\n",
    "y = np.array([firm_4['SCR_ratio_2016'], firm_4['SCR_ratio_2017'], firm_4['SCR_ratio_2018'], firm_4['SCR_ratio_2019'], firm_4['SCR_ratio_2020']])\n",
    "plt.plot(x, y,  # X and y points\n",
    "         color='darkorange', linestyle='--')\n",
    "\n",
    "plt.ylabel('NWP_GWP_AVG', fontsize=14)\n",
    "plt.xlabel('Year', fontsize=14)\n",
    "plt.title('Firm 4 NWP_GWP_AVG Trend', fontsize=16)\n",
    "plt.show()"
   ]
  },
  {
   "cell_type": "code",
   "execution_count": 20,
   "id": "e5bc999c",
   "metadata": {},
   "outputs": [
    {
     "data": {
      "image/png": "[encoded data removed]",
      "text/plain": [
       "<Figure size 432x288 with 1 Axes>"
      ]
     },
     "metadata": {
      "needs_background": "light"
     },
     "output_type": "display_data"
    }
   ],
   "source": [
    "firm_105 =df2[df2['Firm_Name'] == 'Firm 105' ]\n",
    "x = np.array(['2016', '2017', '2018', '2019', '2020'])\n",
    "y = np.array([firm_105['SCR_ratio_2016'], firm_105['SCR_ratio_2017'], firm_105['SCR_ratio_2018'], firm_105['SCR_ratio_2019'], firm_105['SCR_ratio_2020']])\n",
    "plt.plot(x, y,  # X and y points\n",
    "         color='darkorange', linestyle='--')\n",
    "\n",
    "plt.ylabel('NWP_GWP_AVG', fontsize=14)\n",
    "plt.xlabel('Year', fontsize=14)\n",
    "plt.title('Firm 105 NWP_GWP_AVG Trend', fontsize=16)\n",
    "plt.show()"
   ]
  },
  {
   "cell_type": "code",
   "execution_count": 21,
   "id": "817b8828",
   "metadata": {},
   "outputs": [
    {
     "data": {
      "image/png": "[encoded data removed]",
      "text/plain": [
       "<Figure size 432x288 with 1 Axes>"
      ]
     },
     "metadata": {
      "needs_background": "light"
     },
     "output_type": "display_data"
    }
   ],
   "source": [
    "firm_311 =df2[df2['Firm_Name'] == 'Firm 311' ]\n",
    "x = np.array(['2016', '2017', '2018', '2019', '2020'])\n",
    "y = np.array([firm_311['SCR_ratio_2016'], firm_311['SCR_ratio_2017'], firm_311['SCR_ratio_2018'], firm_311['SCR_ratio_2019'], firm_311['SCR_ratio_2020']])\n",
    "plt.plot(x, y,  # X and y points\n",
    "         color='darkorange', linestyle='--')\n",
    "\n",
    "plt.ylabel('NWP_GWP_AVG', fontsize=14)\n",
    "plt.xlabel('Year', fontsize=14)\n",
    "plt.title('Firm 311 NWP_GWP_AVG Trend', fontsize=16)\n",
    "plt.show()"
   ]
  },
  {
   "cell_type": "markdown",
   "id": "c8c22510",
   "metadata": {},
   "source": [
    "## Task I Analysis/ Insights:\n",
    "### Top 3 firms to focus immediately:\n",
    "1. Firm 148, Firm 213 and Firm 183 respectively (Refer Cell 14) needs help and should be focused immediately as otherwise these would become insolvent because their average of SCR ratio is less than 1.\n",
    "2. The order for help is decided using their correspondin GWP value, i.e. the firm with high GWP value is more valuable and should be given priority.\n",
    "3. In 2019, Firm 148 had more liabilities than assets, i.e. their SCR ratio dropped suddenly. However, the ratio improved significantly in 2020 but there could be a random fall again. Since this firm has GWP average of 60.580624(Highest), it becomes the most important firm.  \n",
    "4. For Firm 213, there was a sharp increase in the SCR ratio for a short period between 2018 and 2019. However, the SCR ratio is decreasing since 2019. Since this firm has GWP average of 19.069063(Second highest), it becomes the second most important firm.\n",
    "5. For Firm 183, there was a steep rise in the SCR ratio for a short period between 2017 and 2018. However, the ratio is decreasing since 2018. Since this firm has GWP average of 0.002746, it becomes the least important firm out of 3 but significantly important when compared to the total of 325 firms."
   ]
  },
  {
   "cell_type": "markdown",
   "id": "fad9282c",
   "metadata": {},
   "source": [
    "### Top 3 firms to focus in a short-term:\n",
    "1. Firm 4, Firm 105, Firm 311 respectively (Refer Cell 18) needs help and should be focused in a short term as these firms are not completely/ properly insured because their avergae of NWP/ GWP ratio is less than 1.\n",
    "2. The order for help is decided using their correspondin GWP value, i.e. the firm with high GWP value is more valuable and should be given priority.\n",
    "3. The NWP/GWP average of Firm 4 is constantly declining since 2019, this implies that the firm doesn't have the complete insurance of the insurers. Since this firm has GWP average of 33857.155951(Highest), it becomes the most important firm.  \n",
    "4. For Firm 105, there is a variance in their NWP/GWP average but the performance/ ratio dropped significantly low in 2019. Since this firm has GWP average of 14899.454840\t(Second highest), it becomes the second most important firm.\n",
    "5. For Firm 311, there is a sharp decline in the NWP/GWP average since 2017. This indicates that the insurance of the insurers is constantly decraesing year by year. Since this firm has GWP average of 13685.383398, it becomes the least important firm out of 3 but significantly important when compared to the total of 325 firms."
   ]
  },
  {
   "cell_type": "markdown",
   "id": "cbe55baf",
   "metadata": {},
   "source": [
    "# Task II\n",
    "#### Using relevant ML techniques to draw out further insights"
   ]
  },
  {
   "cell_type": "markdown",
   "id": "35560463",
   "metadata": {},
   "source": [
    "## Model I: Using EOF_SCR_AVG as a target variable"
   ]
  },
  {
   "cell_type": "markdown",
   "id": "c03a7698",
   "metadata": {},
   "source": [
    "#### Feature Engineering"
   ]
  },
  {
   "cell_type": "code",
   "execution_count": 22,
   "id": "8a37bcce",
   "metadata": {},
   "outputs": [],
   "source": [
    "#Features taken into consideration\n",
    "y = (df2['EOF_SCR_AVG']).astype(float)\n",
    "x1 = (df2['GWP_AVG']).astype(float)\n",
    "x2 = (df2['EOAOL_AVG']).astype(float)\n",
    "x3 = (df2['NWP_GWP_AVG']).astype(float)\n",
    "x4 = (df2['Total_liabilities_AVG']).astype(float)"
   ]
  },
  {
   "cell_type": "markdown",
   "id": "f0c584ba",
   "metadata": {},
   "source": [
    "###### Correlation Analysis"
   ]
  },
  {
   "cell_type": "code",
   "execution_count": 23,
   "id": "249542c8",
   "metadata": {},
   "outputs": [
    {
     "data": {
      "text/html": [
       "<div>\n",
       "<style scoped>\n",
       "    .dataframe tbody tr th:only-of-type {\n",
       "        vertical-align: middle;\n",
       "    }\n",
       "\n",
       "    .dataframe tbody tr th {\n",
       "        vertical-align: top;\n",
       "    }\n",
       "\n",
       "    .dataframe thead th {\n",
       "        text-align: right;\n",
       "    }\n",
       "</style>\n",
       "<table border=\"1\" class=\"dataframe\">\n",
       "  <thead>\n",
       "    <tr style=\"text-align: right;\">\n",
       "      <th></th>\n",
       "      <th>GWP_AVG</th>\n",
       "      <th>EOAOL_AVG</th>\n",
       "      <th>NWP_GWP_AVG</th>\n",
       "      <th>Total_liabilities_AVG</th>\n",
       "    </tr>\n",
       "  </thead>\n",
       "  <tbody>\n",
       "    <tr>\n",
       "      <th>GWP_AVG</th>\n",
       "      <td>1.000000</td>\n",
       "      <td>0.646639</td>\n",
       "      <td>0.042675</td>\n",
       "      <td>0.822653</td>\n",
       "    </tr>\n",
       "    <tr>\n",
       "      <th>EOAOL_AVG</th>\n",
       "      <td>0.646639</td>\n",
       "      <td>1.000000</td>\n",
       "      <td>0.030023</td>\n",
       "      <td>0.619121</td>\n",
       "    </tr>\n",
       "    <tr>\n",
       "      <th>NWP_GWP_AVG</th>\n",
       "      <td>0.042675</td>\n",
       "      <td>0.030023</td>\n",
       "      <td>1.000000</td>\n",
       "      <td>0.034473</td>\n",
       "    </tr>\n",
       "    <tr>\n",
       "      <th>Total_liabilities_AVG</th>\n",
       "      <td>0.822653</td>\n",
       "      <td>0.619121</td>\n",
       "      <td>0.034473</td>\n",
       "      <td>1.000000</td>\n",
       "    </tr>\n",
       "  </tbody>\n",
       "</table>\n",
       "</div>"
      ],
      "text/plain": [
       "                        GWP_AVG  EOAOL_AVG  NWP_GWP_AVG  Total_liabilities_AVG\n",
       "GWP_AVG                1.000000   0.646639     0.042675               0.822653\n",
       "EOAOL_AVG              0.646639   1.000000     0.030023               0.619121\n",
       "NWP_GWP_AVG            0.042675   0.030023     1.000000               0.034473\n",
       "Total_liabilities_AVG  0.822653   0.619121     0.034473               1.000000"
      ]
     },
     "execution_count": 23,
     "metadata": {},
     "output_type": "execute_result"
    }
   ],
   "source": [
    "# Calculating correlation between the features\n",
    "df_corr = pd.DataFrame([x1, x2, x3, x4])\n",
    "df_core = df_corr.transpose()\n",
    "df_core.corr()"
   ]
  },
  {
   "cell_type": "code",
   "execution_count": 24,
   "id": "776eaf3f",
   "metadata": {},
   "outputs": [
    {
     "data": {
      "image/png": "[encoded data removed]",
      "text/plain": [
       "<Figure size 432x288 with 2 Axes>"
      ]
     },
     "metadata": {
      "needs_background": "light"
     },
     "output_type": "display_data"
    }
   ],
   "source": [
    "# Here, Dark color shows the high correlation between the features \n",
    "# and the light colors shows less correlation between the features.\n",
    "fe = sns.heatmap(df_core.corr(), annot = True)\n",
    "fe.set(xlabel='\\nFeatures', ylabel='\\nFeatures', title = \"Correlation heatmap of selected features\\n\")\n",
    "plt.savefig(\"Correlation_HeatMap.jpg\")"
   ]
  },
  {
   "cell_type": "code",
   "execution_count": 25,
   "id": "26ccea50",
   "metadata": {},
   "outputs": [],
   "source": [
    "#Eliminating Total_liabilites_AVG as it is highly correlated to GWP_AVG"
   ]
  },
  {
   "cell_type": "markdown",
   "id": "68b5cc8b",
   "metadata": {},
   "source": [
    "###### Backward Stepwise Multiple Linear Regression"
   ]
  },
  {
   "cell_type": "code",
   "execution_count": 26,
   "id": "223e77b5",
   "metadata": {},
   "outputs": [],
   "source": [
    "#### Using Backward Stepwise Multiple Linear Regression algorithm to predict the EOF_SCR_AVG"
   ]
  },
  {
   "cell_type": "code",
   "execution_count": 27,
   "id": "36d26dc3",
   "metadata": {},
   "outputs": [],
   "source": [
    "#creating input and output arrays\n",
    "x = np.array([x1, x2, x3]).reshape((-1, 1))\n",
    "y = np.array(df2['EOF_SCR_AVG'])"
   ]
  },
  {
   "cell_type": "code",
   "execution_count": 28,
   "id": "555f6efb",
   "metadata": {},
   "outputs": [],
   "source": [
    "# adding the column of ones to the inputs so that the statsmodels calculate the intercept 𝑏₀. \n",
    "# as it doesn’t take 𝑏₀ into account by default.\n",
    "x = sm.add_constant(x)"
   ]
  },
  {
   "cell_type": "code",
   "execution_count": 29,
   "id": "139fb4b1",
   "metadata": {},
   "outputs": [],
   "source": [
    "model = smf.ols(formula='y ~ x1 + x2', data=df2).fit()"
   ]
  },
  {
   "cell_type": "code",
   "execution_count": 30,
   "id": "1cda5263",
   "metadata": {},
   "outputs": [
    {
     "name": "stdout",
     "output_type": "stream",
     "text": [
      "Intercept   -32.007144\n",
      "x1            0.059826\n",
      "x2            0.919898\n",
      "dtype: float64\n",
      "                            OLS Regression Results                            \n",
      "==============================================================================\n",
      "Dep. Variable:                      y   R-squared:                       0.941\n",
      "Model:                            OLS   Adj. R-squared:                  0.940\n",
      "Method:                 Least Squares   F-statistic:                     1117.\n",
      "Date:                Fri, 19 Aug 2022   Prob (F-statistic):           3.35e-87\n",
      "Time:                        00:25:05   Log-Likelihood:                -1150.6\n",
      "No. Observations:                 144   AIC:                             2307.\n",
      "Df Residuals:                     141   BIC:                             2316.\n",
      "Df Model:                           2                                         \n",
      "Covariance Type:            nonrobust                                         \n",
      "==============================================================================\n",
      "                 coef    std err          t      P>|t|      [0.025      0.975]\n",
      "------------------------------------------------------------------------------\n",
      "Intercept    -32.0071     64.607     -0.495      0.621    -159.731      95.717\n",
      "x1             0.0598      0.015      3.983      0.000       0.030       0.090\n",
      "x2             0.9199      0.028     33.356      0.000       0.865       0.974\n",
      "==============================================================================\n",
      "Omnibus:                      122.487   Durbin-Watson:                   1.987\n",
      "Prob(Omnibus):                  0.000   Jarque-Bera (JB):            15363.477\n",
      "Skew:                           1.995   Prob(JB):                         0.00\n",
      "Kurtosis:                      53.445   Cond. No.                     6.45e+03\n",
      "==============================================================================\n",
      "\n",
      "Notes:\n",
      "[1] Standard Errors assume that the covariance matrix of the errors is correctly specified.\n",
      "[2] The condition number is large, 6.45e+03. This might indicate that there are\n",
      "strong multicollinearity or other numerical problems.\n"
     ]
    }
   ],
   "source": [
    "print(model.params)\n",
    "print(model.summary())"
   ]
  },
  {
   "cell_type": "code",
   "execution_count": 31,
   "id": "002c356e",
   "metadata": {},
   "outputs": [
    {
     "name": "stdout",
     "output_type": "stream",
     "text": [
      "coefficient of determination: 0.9406513236135218\n",
      "adjusted coefficient of determination: 0.9398094984165505\n",
      "regression coefficients: Intercept   -32.007144\n",
      "x1            0.059826\n",
      "x2            0.919898\n",
      "dtype: float64\n"
     ]
    }
   ],
   "source": [
    "print(f\"coefficient of determination: {model.rsquared}\")\n",
    "print(f\"adjusted coefficient of determination: {model.rsquared_adj}\")\n",
    "print(f\"regression coefficients: {model.params}\")"
   ]
  },
  {
   "cell_type": "code",
   "execution_count": 32,
   "id": "7ae9978a",
   "metadata": {},
   "outputs": [
    {
     "name": "stdout",
     "output_type": "stream",
     "text": [
      "predicted response:\n",
      "1          8.475312\n",
      "3      19509.902090\n",
      "4        104.657523\n",
      "5       3907.309346\n",
      "6       7741.405335\n",
      "           ...     \n",
      "310    11514.899169\n",
      "314       77.276768\n",
      "316      255.261549\n",
      "321     2236.596343\n",
      "323       23.829341\n",
      "Length: 144, dtype: float64\n"
     ]
    }
   ],
   "source": [
    "print(f\"predicted response:\\n{model.fittedvalues}\")"
   ]
  },
  {
   "cell_type": "code",
   "execution_count": 33,
   "id": "c84893d1",
   "metadata": {},
   "outputs": [],
   "source": [
    "# print(f\"predicted response:\\n{model.predict(x)}\")"
   ]
  },
  {
   "cell_type": "markdown",
   "id": "eb5a5ff5",
   "metadata": {},
   "source": [
    "##### Partial Dependence Plots \n",
    "###### These plots show how 'y' (target/dependent) variable varies with each of the 'x' (independent) variable"
   ]
  },
  {
   "cell_type": "code",
   "execution_count": 34,
   "id": "bf8ee972",
   "metadata": {},
   "outputs": [
    {
     "data": {
      "image/png": "[encoded data removed]",
      "text/plain": [
       "<Figure size 360x360 with 1 Axes>"
      ]
     },
     "metadata": {
      "needs_background": "light"
     },
     "output_type": "display_data"
    }
   ],
   "source": [
    "#Plotting the observed vs predicted values\n",
    "sns.lmplot(x='GWP_AVG', y='EOF_SCR_AVG', data=df2, fit_reg=False, size=5)\n",
    "    \n",
    "#Plotting the diagonal line\n",
    "line_coords = np.arange(df2[['GWP_AVG', 'EOF_SCR_AVG']].min().min()-10, \n",
    "                        df2[['GWP_AVG', 'EOF_SCR_AVG']].max().max()+10)\n",
    "plt.plot(line_coords, line_coords,  # X and y points\n",
    "         color='darkorange', linestyle='--')\n",
    "\n",
    "plt.ylabel('EOF_SCR_AVG', fontsize=14)\n",
    "plt.xlabel('GWP_AVG', fontsize=14)\n",
    "plt.title('Partial Dependence Plot for EOF_SCR_AVG and GWP_AVG', fontsize=16)\n",
    "plt.show()"
   ]
  },
  {
   "cell_type": "markdown",
   "id": "3a4ec33b",
   "metadata": {},
   "source": [
    "#### This plot depicts that for most of the firms EOF_SCR_AVG changes positively when their GWP_AVG change positively, i.e there is a direct relationship between the 2 variables."
   ]
  },
  {
   "cell_type": "code",
   "execution_count": 35,
   "id": "70586b66",
   "metadata": {},
   "outputs": [
    {
     "data": {
      "image/png": "[encoded data removed]",
      "text/plain": [
       "<Figure size 360x360 with 1 Axes>"
      ]
     },
     "metadata": {
      "needs_background": "light"
     },
     "output_type": "display_data"
    }
   ],
   "source": [
    "sns.lmplot(x='EOAOL_AVG', y='EOF_SCR_AVG', data=df2, fit_reg=False, size=5)\n",
    "    \n",
    "# Plotting the diagonal line\n",
    "line_coords = np.arange(df2[['EOAOL_AVG', 'EOF_SCR_AVG']].min().min()-10, \n",
    "                        df2[['EOAOL_AVG', 'EOF_SCR_AVG']].max().max()+10)\n",
    "plt.plot(line_coords, line_coords,  # X and y points\n",
    "         color='darkorange', linestyle='--')\n",
    "\n",
    "plt.ylabel('EOF_SCR_AVG', fontsize=14)\n",
    "plt.xlabel('EOAOL_AVG', fontsize=14)\n",
    "plt.title('Partial Dependence Plot for EOF_SCR_AVG and EOAOL_AVG', fontsize=16)\n",
    "plt.show()"
   ]
  },
  {
   "cell_type": "markdown",
   "id": "d9267902",
   "metadata": {},
   "source": [
    "#### This plot depicts that most of the BIG firms use their own fund (Eligible Own Fund) to grow, i.e. EOAOL _AVG(Assest over Liablities Avg) is in a direct relationship with EOF_SCR_AVG(Eligible Own Fund Avg)"
   ]
  },
  {
   "cell_type": "code",
   "execution_count": 36,
   "id": "ffd55021",
   "metadata": {},
   "outputs": [
    {
     "data": {
      "image/png": "[encoded data removed]",
      "text/plain": [
       "<Figure size 360x360 with 1 Axes>"
      ]
     },
     "metadata": {
      "needs_background": "light"
     },
     "output_type": "display_data"
    }
   ],
   "source": [
    "sns.lmplot(x='NWP_GWP_AVG', y='EOF_SCR_AVG', data=df2, fit_reg=False, size=5)\n",
    "    \n",
    "# Plotting the diagonal line\n",
    "line_coords = np.arange(df2[['NWP_GWP_AVG', 'EOF_SCR_AVG']].min().min()-10, \n",
    "                        df2[['NWP_GWP_AVG', 'EOF_SCR_AVG']].max().max()+10)\n",
    "plt.plot(line_coords, line_coords,  # X and y points\n",
    "         color='darkorange', linestyle='--')\n",
    "\n",
    "plt.ylabel('EOF_SCR_AVG', fontsize=14)\n",
    "plt.xlabel('NWP_GWP_AVG', fontsize=14)\n",
    "plt.title('Partial Dependence Plot for EOF_SCR_AVG and GWP_AVG', fontsize=16)\n",
    "plt.show()"
   ]
  },
  {
   "cell_type": "markdown",
   "id": "220aac75",
   "metadata": {},
   "source": [
    "#### This plot depicts that there is no direct/ indirect relationship between NWP_GWP_AVG and EOF_SCR_AVG"
   ]
  },
  {
   "cell_type": "markdown",
   "id": "02c556ca",
   "metadata": {},
   "source": [
    "## Model II: Using SCR_AVG as a target variable"
   ]
  },
  {
   "cell_type": "markdown",
   "id": "ea463cbb",
   "metadata": {},
   "source": [
    "#### Feature Engineering"
   ]
  },
  {
   "cell_type": "code",
   "execution_count": 37,
   "id": "cb3df7b5",
   "metadata": {},
   "outputs": [],
   "source": [
    "#Features taken into consideration\n",
    "y = (df2['SCR_AVG']).astype(float)\n",
    "x1 = (df2['GWP_AVG']).astype(float)\n",
    "x2 = (df2['EOAOL_AVG']).astype(float)\n",
    "x3 = (df2['NWP_GWP_AVG']).astype(float)\n",
    "x4 = (df2['Total_liabilities_AVG']).astype(float)"
   ]
  },
  {
   "cell_type": "markdown",
   "id": "a8306d21",
   "metadata": {},
   "source": [
    "###### Correlation Analysis"
   ]
  },
  {
   "cell_type": "code",
   "execution_count": 38,
   "id": "24905d86",
   "metadata": {},
   "outputs": [
    {
     "data": {
      "text/html": [
       "<div>\n",
       "<style scoped>\n",
       "    .dataframe tbody tr th:only-of-type {\n",
       "        vertical-align: middle;\n",
       "    }\n",
       "\n",
       "    .dataframe tbody tr th {\n",
       "        vertical-align: top;\n",
       "    }\n",
       "\n",
       "    .dataframe thead th {\n",
       "        text-align: right;\n",
       "    }\n",
       "</style>\n",
       "<table border=\"1\" class=\"dataframe\">\n",
       "  <thead>\n",
       "    <tr style=\"text-align: right;\">\n",
       "      <th></th>\n",
       "      <th>GWP_AVG</th>\n",
       "      <th>EOAOL_AVG</th>\n",
       "      <th>NWP_GWP_AVG</th>\n",
       "      <th>Total_liabilities_AVG</th>\n",
       "    </tr>\n",
       "  </thead>\n",
       "  <tbody>\n",
       "    <tr>\n",
       "      <th>GWP_AVG</th>\n",
       "      <td>1.000000</td>\n",
       "      <td>0.646639</td>\n",
       "      <td>0.042675</td>\n",
       "      <td>0.822653</td>\n",
       "    </tr>\n",
       "    <tr>\n",
       "      <th>EOAOL_AVG</th>\n",
       "      <td>0.646639</td>\n",
       "      <td>1.000000</td>\n",
       "      <td>0.030023</td>\n",
       "      <td>0.619121</td>\n",
       "    </tr>\n",
       "    <tr>\n",
       "      <th>NWP_GWP_AVG</th>\n",
       "      <td>0.042675</td>\n",
       "      <td>0.030023</td>\n",
       "      <td>1.000000</td>\n",
       "      <td>0.034473</td>\n",
       "    </tr>\n",
       "    <tr>\n",
       "      <th>Total_liabilities_AVG</th>\n",
       "      <td>0.822653</td>\n",
       "      <td>0.619121</td>\n",
       "      <td>0.034473</td>\n",
       "      <td>1.000000</td>\n",
       "    </tr>\n",
       "  </tbody>\n",
       "</table>\n",
       "</div>"
      ],
      "text/plain": [
       "                        GWP_AVG  EOAOL_AVG  NWP_GWP_AVG  Total_liabilities_AVG\n",
       "GWP_AVG                1.000000   0.646639     0.042675               0.822653\n",
       "EOAOL_AVG              0.646639   1.000000     0.030023               0.619121\n",
       "NWP_GWP_AVG            0.042675   0.030023     1.000000               0.034473\n",
       "Total_liabilities_AVG  0.822653   0.619121     0.034473               1.000000"
      ]
     },
     "execution_count": 38,
     "metadata": {},
     "output_type": "execute_result"
    }
   ],
   "source": [
    "# Calculating correlation between the features\n",
    "df_corr = pd.DataFrame([x1, x2, x3, x4])\n",
    "df_core = df_corr.transpose()\n",
    "df_core.corr()"
   ]
  },
  {
   "cell_type": "code",
   "execution_count": 39,
   "id": "a7d0332b",
   "metadata": {},
   "outputs": [
    {
     "data": {
      "image/png": "[encoded data removed]",
      "text/plain": [
       "<Figure size 432x288 with 2 Axes>"
      ]
     },
     "metadata": {
      "needs_background": "light"
     },
     "output_type": "display_data"
    }
   ],
   "source": [
    "# Here, Dark color shows the high correlation between the features \n",
    "# and the light colors shows less correlation between the features.\n",
    "fe = sns.heatmap(df_core.corr(), annot = True)\n",
    "fe.set(xlabel='\\nFeatures', ylabel='\\nFeatures', title = \"Correlation heatmap of selected features\\n\")\n",
    "plt.savefig(\"Correlation_HeatMap2.jpg\")"
   ]
  },
  {
   "cell_type": "code",
   "execution_count": 40,
   "id": "74cdaa74",
   "metadata": {},
   "outputs": [],
   "source": [
    "#Eliminating Total_liabilites_AVG as it is highly correlated to GWP_AVG"
   ]
  },
  {
   "cell_type": "markdown",
   "id": "6a13dd6e",
   "metadata": {},
   "source": [
    "###### Backward Stepwise Multiple Linear Regression"
   ]
  },
  {
   "cell_type": "code",
   "execution_count": 41,
   "id": "29b58a0a",
   "metadata": {},
   "outputs": [],
   "source": [
    "#### Using Backward Stepwise Multiple Linear Regression algorithm to predict the SCR_AVG"
   ]
  },
  {
   "cell_type": "code",
   "execution_count": 42,
   "id": "14be4390",
   "metadata": {},
   "outputs": [],
   "source": [
    "#creating input and output arrays\n",
    "x = np.array([x1, x2, x3]).reshape((-1, 1))\n",
    "y = np.array(df2['SCR_AVG'])"
   ]
  },
  {
   "cell_type": "code",
   "execution_count": 43,
   "id": "402d1c3a",
   "metadata": {},
   "outputs": [],
   "source": [
    "# adding the column of ones to the inputs so that the statsmodels calculate the intercept 𝑏₀. \n",
    "# as it doesn’t take 𝑏₀ into account by default.\n",
    "x = sm.add_constant(x)"
   ]
  },
  {
   "cell_type": "code",
   "execution_count": 44,
   "id": "54be8996",
   "metadata": {},
   "outputs": [],
   "source": [
    "model = smf.ols(formula='y ~ x1 + x2', data=df2).fit()"
   ]
  },
  {
   "cell_type": "code",
   "execution_count": 45,
   "id": "34cf6062",
   "metadata": {},
   "outputs": [
    {
     "name": "stdout",
     "output_type": "stream",
     "text": [
      "Intercept   -50.004103\n",
      "x1            0.036305\n",
      "x2            0.626452\n",
      "dtype: float64\n",
      "                            OLS Regression Results                            \n",
      "==============================================================================\n",
      "Dep. Variable:                      y   R-squared:                       0.942\n",
      "Model:                            OLS   Adj. R-squared:                  0.942\n",
      "Method:                 Least Squares   F-statistic:                     1155.\n",
      "Date:                Fri, 19 Aug 2022   Prob (F-statistic):           3.63e-88\n",
      "Time:                        00:25:06   Log-Likelihood:                -1091.6\n",
      "No. Observations:                 144   AIC:                             2189.\n",
      "Df Residuals:                     141   BIC:                             2198.\n",
      "Df Model:                           2                                         \n",
      "Covariance Type:            nonrobust                                         \n",
      "==============================================================================\n",
      "                 coef    std err          t      P>|t|      [0.025      0.975]\n",
      "------------------------------------------------------------------------------\n",
      "Intercept    -50.0041     42.900     -1.166      0.246    -134.814      34.806\n",
      "x1             0.0363      0.010      3.640      0.000       0.017       0.056\n",
      "x2             0.6265      0.018     34.210      0.000       0.590       0.663\n",
      "==============================================================================\n",
      "Omnibus:                      161.172   Durbin-Watson:                   2.018\n",
      "Prob(Omnibus):                  0.000   Jarque-Bera (JB):            14771.885\n",
      "Skew:                           3.490   Prob(JB):                         0.00\n",
      "Kurtosis:                      52.125   Cond. No.                     6.45e+03\n",
      "==============================================================================\n",
      "\n",
      "Notes:\n",
      "[1] Standard Errors assume that the covariance matrix of the errors is correctly specified.\n",
      "[2] The condition number is large, 6.45e+03. This might indicate that there are\n",
      "strong multicollinearity or other numerical problems.\n"
     ]
    }
   ],
   "source": [
    "print(model.params)\n",
    "print(model.summary())"
   ]
  },
  {
   "cell_type": "code",
   "execution_count": 46,
   "id": "083e7e21",
   "metadata": {},
   "outputs": [
    {
     "name": "stdout",
     "output_type": "stream",
     "text": [
      "coefficient of determination: 0.9424930343100407\n",
      "adjusted coefficient of determination: 0.9416773326690484\n",
      "regression coefficients: Intercept   -50.004103\n",
      "x1            0.036305\n",
      "x2            0.626452\n",
      "dtype: float64\n"
     ]
    }
   ],
   "source": [
    "print(f\"coefficient of determination: {model.rsquared}\")\n",
    "print(f\"adjusted coefficient of determination: {model.rsquared_adj}\")\n",
    "print(f\"regression coefficients: {model.params}\")"
   ]
  },
  {
   "cell_type": "code",
   "execution_count": 47,
   "id": "6f92030b",
   "metadata": {},
   "outputs": [
    {
     "name": "stdout",
     "output_type": "stream",
     "text": [
      "predicted response:\n",
      "1        -22.546453\n",
      "3      13107.857241\n",
      "4         42.804742\n",
      "5       2617.711277\n",
      "6       5203.164193\n",
      "           ...     \n",
      "310     7752.740447\n",
      "314       23.573973\n",
      "316      136.325501\n",
      "321     1485.209407\n",
      "323      -12.597351\n",
      "Length: 144, dtype: float64\n"
     ]
    }
   ],
   "source": [
    "print(f\"predicted response:\\n{model.fittedvalues}\")"
   ]
  },
  {
   "cell_type": "code",
   "execution_count": 48,
   "id": "4d9b22ff",
   "metadata": {},
   "outputs": [],
   "source": [
    "# print(f\"predicted response:\\n{model.predict(x)}\")"
   ]
  },
  {
   "cell_type": "markdown",
   "id": "f40fff1a",
   "metadata": {},
   "source": [
    "##### Partial Dependence Plots \n",
    "###### These plots show how 'y' (target/dependent) variable varies with each of the 'x' (independent) variable"
   ]
  },
  {
   "cell_type": "code",
   "execution_count": 49,
   "id": "ffdbb747",
   "metadata": {},
   "outputs": [
    {
     "data": {
      "image/png": "[encoded data removed]",
      "text/plain": [
       "<Figure size 360x360 with 1 Axes>"
      ]
     },
     "metadata": {
      "needs_background": "light"
     },
     "output_type": "display_data"
    }
   ],
   "source": [
    "#Plotting the observed vs predicted values\n",
    "sns.lmplot(x='GWP_AVG', y='SCR_AVG', data=df2, fit_reg=False, size=5)\n",
    "    \n",
    "#Plotting the diagonal line\n",
    "line_coords = np.arange(df2[['GWP_AVG', 'SCR_AVG']].min().min()-10, \n",
    "                        df2[['GWP_AVG', 'SCR_AVG']].max().max()+10)\n",
    "plt.plot(line_coords, line_coords,  # X and y points\n",
    "         color='darkorange', linestyle='--')\n",
    "\n",
    "plt.ylabel('SCR_AVG', fontsize=14)\n",
    "plt.xlabel('GWP_AVG', fontsize=14)\n",
    "plt.title('Partial Dependence Plot for SCR_AVG and GWP_AVG', fontsize=16)\n",
    "plt.show()"
   ]
  },
  {
   "cell_type": "markdown",
   "id": "05668e65",
   "metadata": {},
   "source": [
    "#### This plot depicts that there is a direct relationship between the 2 variables."
   ]
  },
  {
   "cell_type": "code",
   "execution_count": 50,
   "id": "31feab42",
   "metadata": {},
   "outputs": [
    {
     "data": {
      "image/png": "[encoded data removed]",
      "text/plain": [
       "<Figure size 360x360 with 1 Axes>"
      ]
     },
     "metadata": {
      "needs_background": "light"
     },
     "output_type": "display_data"
    }
   ],
   "source": [
    "sns.lmplot(x='EOAOL_AVG', y='SCR_AVG', data=df2, fit_reg=False, size=5)\n",
    "    \n",
    "# Plotting the diagonal line\n",
    "line_coords = np.arange(df2[['EOAOL_AVG', 'SCR_AVG']].min().min()-10, \n",
    "                        df2[['EOAOL_AVG', 'SCR_AVG']].max().max()+10)\n",
    "plt.plot(line_coords, line_coords,  # X and y points\n",
    "         color='darkorange', linestyle='--')\n",
    "\n",
    "plt.ylabel('SCR_AVG', fontsize=14)\n",
    "plt.xlabel('EOAOL_AVG', fontsize=14)\n",
    "plt.title('Partial Dependence Plot for SCR_AVG and EOAOL_AVG', fontsize=16)\n",
    "plt.show()"
   ]
  },
  {
   "cell_type": "markdown",
   "id": "08d6da77",
   "metadata": {},
   "source": [
    "#### This plot depicts that as the firm's (Eligible Own Fund Assests Over Liabilites) grows, their chances of getting insolvent reduces"
   ]
  },
  {
   "cell_type": "code",
   "execution_count": 51,
   "id": "e86584fc",
   "metadata": {},
   "outputs": [
    {
     "data": {
      "image/png": "[encoded data removed]",
      "text/plain": [
       "<Figure size 360x360 with 1 Axes>"
      ]
     },
     "metadata": {
      "needs_background": "light"
     },
     "output_type": "display_data"
    }
   ],
   "source": [
    "sns.lmplot(x='NWP_GWP_AVG', y='SCR_AVG', data=df2, fit_reg=False, size=5)\n",
    "    \n",
    "# Plotting the diagonal line\n",
    "line_coords = np.arange(df2[['NWP_GWP_AVG', 'SCR_AVG']].min().min()-10, \n",
    "                        df2[['NWP_GWP_AVG', 'SCR_AVG']].max().max()+10)\n",
    "plt.plot(line_coords, line_coords,  # X and y points\n",
    "         color='darkorange', linestyle='--')\n",
    "\n",
    "plt.ylabel('SCR_AVG', fontsize=14)\n",
    "plt.xlabel('NWP_GWP_AVG', fontsize=14)\n",
    "plt.title('Partial Dependence Plot for SCR_AVG and EOAOL_AVG', fontsize=16)\n",
    "plt.show()"
   ]
  },
  {
   "cell_type": "markdown",
   "id": "8f6ea035",
   "metadata": {},
   "source": [
    "#### This plot depicts that there is no direct/ indirect relationship between NWP_GWP_AVG and SCR_AVG"
   ]
  },
  {
   "cell_type": "markdown",
   "id": "5ca76635",
   "metadata": {},
   "source": [
    "## Task II Analysis/ Insights:\n",
    "#### Trend analysis of Solvency Capital Requirements (SCR) ratio\n",
    "#### Formula: SCR Ratio = EOF_SCR / SCR\n",
    "####  Using 2  Step-wise Backward Multiple Regression Machine Learning models analysing Eligible Own Fund Solvency Capital Requirements Average (EOF_SCR_AVG) and Solvency Capital Requirements Average (SCR_AVG) "
   ]
  },
  {
   "cell_type": "markdown",
   "id": "6478d91a",
   "metadata": {},
   "source": [
    "### Using above models we can conclude the below points:\n",
    "#### 1. There is a direct relationship between GWP and EOF_SCR. This implies that as the Gross Written Premium/ turnover of the firm increases, their Eligible Own Funds (EOF) also increases .\n",
    "#### 2. Similarly, there is a direct relationship between GWP and SCR. This implies that as the Gross Written Premium/ turnover of the firm increases, their Solvency Capital Requirements (SCR) also increases.\n",
    "#### 3. There is a direct relationship between EOAL and EOF_SCR. This implies that as the Assests increases over Liabilities of the firm increases, their Eligible Own Funds (EOF) Solvency Capital Requirements (SCR) also increases.\n",
    "#### 4. There is a direct relationship between EOAL and SCR. This implies that as the Assests increases over Liabilities of the firm increases, their Solvency Capital Requirements (SCR) also increases.\n",
    "#### 5. The relationship of reinsuring the insurers (NWP/ GWP) can not be identified using SCR or EOF_SCR"
   ]
  },
  {
   "cell_type": "code",
   "execution_count": null,
   "id": "408030a0",
   "metadata": {},
   "outputs": [],
   "source": []
  }
 ],
 "metadata": {
  "kernelspec": {
   "display_name": "Python 3",
   "language": "python",
   "name": "python3"
  },
  "language_info": {
   "codemirror_mode": {
    "name": "ipython",
    "version": 3
   },
   "file_extension": ".py",
   "mimetype": "text/x-python",
   "name": "python",
   "nbconvert_exporter": "python",
   "pygments_lexer": "ipython3",
   "version": "3.8.8"
  }
 },
 "nbformat": 4,
 "nbformat_minor": 5
}
